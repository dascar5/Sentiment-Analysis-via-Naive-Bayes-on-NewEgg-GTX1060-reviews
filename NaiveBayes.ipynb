{
 "cells": [
  {
   "cell_type": "markdown",
   "metadata": {},
   "source": [
    "# Sentiment Analiza korišćenjem Naive Bayes klasifikatora na recenzije GTX1060 grafičke kartice"
   ]
  },
  {
   "cell_type": "markdown",
   "metadata": {},
   "source": [
    "###  Obavljeni koraci\n",
    " 1.  Scrape-ovani podaci sa Interneta korišćenjem BeautifulSoup\n",
    " 2.  Tokenizovali recenzije korišćenjem NLTK\n",
    " 3.  Kategorizovali recenzije u pozitivne i negativne korišćenjem Bing Lexicon kao referencu\n",
    " 4.  Ekstraktovali karakteristike i sentiment iz recenzija\n",
    " 5.  Koristili Naive Bayes klasifikator da predvidi sentiment test podataka \n",
    " 6.  Kalkulisali preciznos klasifikatora\n"
   ]
  },
  {
   "cell_type": "code",
   "execution_count": 28,
   "metadata": {},
   "outputs": [],
   "source": [
    "#Importovanje potrebnih biblioteka\n",
    "import urllib\n",
    "from urllib.request import urlopen\n",
    "from bs4 import BeautifulSoup\n",
    "import pandas as pd\n",
    "import nltk\n",
    "import os\n",
    "import matplotlib as mpl\n",
    "import matplotlib.pyplot as plt\n",
    "import seaborn as sns\n",
    "import requests\n",
    "import lxml\n",
    "\n",
    "\n",
    "%matplotlib inline\n",
    "from nltk.corpus import stopwords\n",
    "from subprocess import check_output\n",
    "from wordcloud import WordCloud, STOPWORDS\n",
    "from sklearn.model_selection import train_test_split\n",
    "\n",
    "\n"
   ]
  },
  {
   "cell_type": "markdown",
   "metadata": {},
   "source": [
    "## Scrape-ovanje podataka sa interneta korišćenjem BeautifulSoup"
   ]
  },
  {
   "cell_type": "code",
   "execution_count": 31,
   "metadata": {
    "scrolled": true
   },
   "outputs": [],
   "source": [
    "#Scrape-ovanje recenzija sa NewEgg-a\n",
    "data = []\n",
    "for i in range(1,250):\n",
    "    \n",
    "    re = requests.get(\"https://www.newegg.com/evga-geforce-gtx-1060-06g-p4-6163-kr/p/N82E16814487261\".format(i))\n",
    "    soup = BeautifulSoup(re.content)\n",
    "    \n",
    "    x = soup.find_all(\"div\", {\"class\":\"comments-cell has-side-left is-active\"})\n",
    "    for item in x:\n",
    "        author_name =item.find_all(\"div\",attrs = {\"class\":\"comments-name\"})[0].text\n",
    "        rating = item.find_all(\"span\",attrs={\"itemprop\":\"ratingValue\"})[0].text\n",
    "        review_title = item.find_all(\"span\",attrs={\"class\":\"comments-title-content\"})[0].text\n",
    "        review_description = item.find_all(\"div\",attrs={\"class\":\"comments-content\"})[0].text\n",
    "        data.append((author_name,rating, review_title,review_description ))\n",
    "        \n",
    "        \n",
    "        "
   ]
  },
  {
   "cell_type": "code",
   "execution_count": 32,
   "metadata": {
    "scrolled": true
   },
   "outputs": [],
   "source": [
    "#Učitavanje recenzija u dataframe korišćenjem Pandas\n",
    "reviews_df= pd.DataFrame(data)\n",
    "reviews_df.columns = [\"Review_Author\",\"Review_Rating\",\"Review_Title\",\"Review_Description\"]"
   ]
  },
  {
   "cell_type": "code",
   "execution_count": 33,
   "metadata": {
    "scrolled": false
   },
   "outputs": [
    {
     "data": {
      "text/html": [
       "<div>\n",
       "<style scoped>\n",
       "    .dataframe tbody tr th:only-of-type {\n",
       "        vertical-align: middle;\n",
       "    }\n",
       "\n",
       "    .dataframe tbody tr th {\n",
       "        vertical-align: top;\n",
       "    }\n",
       "\n",
       "    .dataframe thead th {\n",
       "        text-align: right;\n",
       "    }\n",
       "</style>\n",
       "<table border=\"1\" class=\"dataframe\">\n",
       "  <thead>\n",
       "    <tr style=\"text-align: right;\">\n",
       "      <th></th>\n",
       "      <th>Review_Author</th>\n",
       "      <th>Review_Rating</th>\n",
       "      <th>Review_Title</th>\n",
       "      <th>Review_Description</th>\n",
       "    </tr>\n",
       "  </thead>\n",
       "  <tbody>\n",
       "    <tr>\n",
       "      <th>0</th>\n",
       "      <td>Anonymous</td>\n",
       "      <td>5</td>\n",
       "      <td>Good value card</td>\n",
       "      <td>\\n\\nPros:\\r\\n                -Runs most games ...</td>\n",
       "    </tr>\n",
       "    <tr>\n",
       "      <th>1</th>\n",
       "      <td>Anonymous</td>\n",
       "      <td>1</td>\n",
       "      <td>EVGA and their rebate company is garbage.</td>\n",
       "      <td>\\n\\nPros:\\r\\n                Nothing\\r\\n      ...</td>\n",
       "    </tr>\n",
       "    <tr>\n",
       "      <th>2</th>\n",
       "      <td>Anonymous</td>\n",
       "      <td>2</td>\n",
       "      <td>Loud</td>\n",
       "      <td>\\n\\nPros:\\r\\n                works great,cheap...</td>\n",
       "    </tr>\n",
       "    <tr>\n",
       "      <th>3</th>\n",
       "      <td>Anonymous</td>\n",
       "      <td>5</td>\n",
       "      <td>Fire</td>\n",
       "      <td>\\n\\nPros:\\r\\n                It's a nice \"budg...</td>\n",
       "    </tr>\n",
       "    <tr>\n",
       "      <th>4</th>\n",
       "      <td>Anonymous</td>\n",
       "      <td>5</td>\n",
       "      <td>Great video card</td>\n",
       "      <td>\\n\\nPros:\\r\\n                -awesome performa...</td>\n",
       "    </tr>\n",
       "  </tbody>\n",
       "</table>\n",
       "</div>"
      ],
      "text/plain": [
       "  Review_Author Review_Rating                               Review_Title  \\\n",
       "0     Anonymous             5                            Good value card   \n",
       "1     Anonymous             1  EVGA and their rebate company is garbage.   \n",
       "2     Anonymous             2                                       Loud   \n",
       "3     Anonymous             5                                       Fire   \n",
       "4     Anonymous             5                           Great video card   \n",
       "\n",
       "                                  Review_Description  \n",
       "0  \\n\\nPros:\\r\\n                -Runs most games ...  \n",
       "1  \\n\\nPros:\\r\\n                Nothing\\r\\n      ...  \n",
       "2  \\n\\nPros:\\r\\n                works great,cheap...  \n",
       "3  \\n\\nPros:\\r\\n                It's a nice \"budg...  \n",
       "4  \\n\\nPros:\\r\\n                -awesome performa...  "
      ]
     },
     "execution_count": 33,
     "metadata": {},
     "output_type": "execute_result"
    }
   ],
   "source": [
    "reviews_df.head()"
   ]
  },
  {
   "cell_type": "code",
   "execution_count": 34,
   "metadata": {},
   "outputs": [],
   "source": [
    "def isNotNull(value):\n",
    "    return value is not None and len(value)>0"
   ]
  },
  {
   "cell_type": "code",
   "execution_count": 35,
   "metadata": {},
   "outputs": [],
   "source": [
    "os.chdir('C:\\\\Users\\\\Bogdan\\\\Desktop\\\\opinion-lexicon-English\\\\')\n",
    "dict_pos = []\n",
    "dict_neg = []\n",
    "f = open('negative-words.txt','r')\n",
    "for line in f:\n",
    "    t= line.strip().lower()\n",
    "    if (isNotNull(t)):\n",
    "           dict_neg.append(t)\n",
    "f.close()\n",
    "\n",
    "f = open('positive-words.txt','r')\n",
    "for line in f:\n",
    "    t = line.strip().lower();\n",
    "    if (isNotNull(t)):\n",
    "        dict_pos.append(t)\n",
    "f.close()"
   ]
  },
  {
   "cell_type": "code",
   "execution_count": 36,
   "metadata": {},
   "outputs": [],
   "source": [
    "del dict_pos[0:34]\n",
    "del dict_neg[0:34]"
   ]
  },
  {
   "cell_type": "markdown",
   "metadata": {},
   "source": [
    "## Tokenizovanje recenzija korišćenjem NLTK"
   ]
  },
  {
   "cell_type": "code",
   "execution_count": 38,
   "metadata": {},
   "outputs": [],
   "source": [
    "list = []\n",
    "\n",
    "positive_count_summary_list = []\n",
    "positive_summary_count= []\n",
    "\n",
    "positive_words_list = []\n",
    "\n",
    "negative_count_summary_list = []\n",
    "negative_summary_count =[]\n",
    "\n",
    "negative_words_list = []\n",
    "\n",
    "appended_data = pd.DataFrame([])\n",
    "sentiment_summary_list = []\n",
    "\n",
    "stopwords_set = set(stopwords.words(\"english\"))\n",
    "\n",
    "for index, row in reviews_df.iterrows():\n",
    "    \n",
    "        words_filtered = [e.lower() for e in row.Review_Description.split() if len(e) >= 3]\n",
    "        words_without_stopwords = [word for word in words_filtered if not word in stopwords_set]\n",
    "        \n",
    "        positive_words = set(dict_pos).intersection(words_without_stopwords)\n",
    "        positive_words_list.append(positive_words)\n",
    "        \n",
    "        positive_count = len(set(dict_pos).intersection(words_without_stopwords))\n",
    "        negative_count = len(set(dict_neg).intersection(words_without_stopwords))\n",
    "        \n",
    "        negative_words = set(dict_neg).intersection(words_without_stopwords)\n",
    "        negative_words_list.append(negative_words)\n",
    "\n",
    "        positive_count_summary_list.append(positive_count)\n",
    "        negative_count_summary_list.append(negative_count)\n",
    "    \n",
    "        if positive_count > negative_count:\n",
    "            sentiment_summary_list.append('positive')\n",
    "            \n",
    "\n",
    "            \n",
    "        elif positive_count < negative_count:\n",
    "            sentiment_summary_list.append('negative')\n",
    "\n",
    "        else:\n",
    "            sentiment_summary_list.append('neutral')\n",
    "        reviews_df['summary_sentiment'] = pd.DataFrame((sentiment_summary_list))\n",
    "        list.append((words_without_stopwords, row.summary_sentiment))\n"
   ]
  },
  {
   "cell_type": "code",
   "execution_count": 39,
   "metadata": {},
   "outputs": [],
   "source": [
    "reviews_df = reviews_df.assign(positive_words_count=pd.Series(positive_count_summary_list).values)\n",
    "reviews_df = reviews_df.assign(negative_words_count=pd.Series(negative_count_summary_list).values)\n",
    "reviews_df = reviews_df.assign(positive_words=pd.Series(positive_words_list).values)\n",
    "reviews_df = reviews_df.assign(negative_words=pd.Series(negative_words_list).values)\n"
   ]
  },
  {
   "cell_type": "markdown",
   "metadata": {},
   "source": [
    "## Kategorisanje recenzija u pozitivne i negativne korišćenjem Bing Lexicon-a"
   ]
  },
  {
   "cell_type": "code",
   "execution_count": 40,
   "metadata": {
    "scrolled": true
   },
   "outputs": [
    {
     "data": {
      "text/html": [
       "<div>\n",
       "<style scoped>\n",
       "    .dataframe tbody tr th:only-of-type {\n",
       "        vertical-align: middle;\n",
       "    }\n",
       "\n",
       "    .dataframe tbody tr th {\n",
       "        vertical-align: top;\n",
       "    }\n",
       "\n",
       "    .dataframe thead th {\n",
       "        text-align: right;\n",
       "    }\n",
       "</style>\n",
       "<table border=\"1\" class=\"dataframe\">\n",
       "  <thead>\n",
       "    <tr style=\"text-align: right;\">\n",
       "      <th></th>\n",
       "      <th>Review_Author</th>\n",
       "      <th>Review_Rating</th>\n",
       "      <th>Review_Title</th>\n",
       "      <th>Review_Description</th>\n",
       "      <th>summary_sentiment</th>\n",
       "      <th>positive_words_count</th>\n",
       "      <th>negative_words_count</th>\n",
       "      <th>positive_words</th>\n",
       "      <th>negative_words</th>\n",
       "    </tr>\n",
       "  </thead>\n",
       "  <tbody>\n",
       "    <tr>\n",
       "      <th>0</th>\n",
       "      <td>Anonymous</td>\n",
       "      <td>5</td>\n",
       "      <td>Good value card</td>\n",
       "      <td>\\n\\nPros:\\r\\n                -Runs most games ...</td>\n",
       "      <td>neutral</td>\n",
       "      <td>2</td>\n",
       "      <td>2</td>\n",
       "      <td>{appropriate, worth}</td>\n",
       "      <td>{broken, decline}</td>\n",
       "    </tr>\n",
       "    <tr>\n",
       "      <th>1</th>\n",
       "      <td>Anonymous</td>\n",
       "      <td>1</td>\n",
       "      <td>EVGA and their rebate company is garbage.</td>\n",
       "      <td>\\n\\nPros:\\r\\n                Nothing\\r\\n      ...</td>\n",
       "      <td>negative</td>\n",
       "      <td>0</td>\n",
       "      <td>3</td>\n",
       "      <td>{}</td>\n",
       "      <td>{messed, worse, blame}</td>\n",
       "    </tr>\n",
       "    <tr>\n",
       "      <th>2</th>\n",
       "      <td>Anonymous</td>\n",
       "      <td>2</td>\n",
       "      <td>Loud</td>\n",
       "      <td>\\n\\nPros:\\r\\n                works great,cheap...</td>\n",
       "      <td>positive</td>\n",
       "      <td>3</td>\n",
       "      <td>2</td>\n",
       "      <td>{great, works, best}</td>\n",
       "      <td>{loud, freaking}</td>\n",
       "    </tr>\n",
       "    <tr>\n",
       "      <th>3</th>\n",
       "      <td>Anonymous</td>\n",
       "      <td>5</td>\n",
       "      <td>Fire</td>\n",
       "      <td>\\n\\nPros:\\r\\n                It's a nice \"budg...</td>\n",
       "      <td>positive</td>\n",
       "      <td>4</td>\n",
       "      <td>2</td>\n",
       "      <td>{nice, well, fast, right}</td>\n",
       "      <td>{regret, problem}</td>\n",
       "    </tr>\n",
       "    <tr>\n",
       "      <th>4</th>\n",
       "      <td>Anonymous</td>\n",
       "      <td>5</td>\n",
       "      <td>Great video card</td>\n",
       "      <td>\\n\\nPros:\\r\\n                -awesome performa...</td>\n",
       "      <td>positive</td>\n",
       "      <td>2</td>\n",
       "      <td>1</td>\n",
       "      <td>{flawlessly, best}</td>\n",
       "      <td>{complaints}</td>\n",
       "    </tr>\n",
       "  </tbody>\n",
       "</table>\n",
       "</div>"
      ],
      "text/plain": [
       "  Review_Author Review_Rating                               Review_Title  \\\n",
       "0     Anonymous             5                            Good value card   \n",
       "1     Anonymous             1  EVGA and their rebate company is garbage.   \n",
       "2     Anonymous             2                                       Loud   \n",
       "3     Anonymous             5                                       Fire   \n",
       "4     Anonymous             5                           Great video card   \n",
       "\n",
       "                                  Review_Description summary_sentiment  \\\n",
       "0  \\n\\nPros:\\r\\n                -Runs most games ...           neutral   \n",
       "1  \\n\\nPros:\\r\\n                Nothing\\r\\n      ...          negative   \n",
       "2  \\n\\nPros:\\r\\n                works great,cheap...          positive   \n",
       "3  \\n\\nPros:\\r\\n                It's a nice \"budg...          positive   \n",
       "4  \\n\\nPros:\\r\\n                -awesome performa...          positive   \n",
       "\n",
       "   positive_words_count  negative_words_count             positive_words  \\\n",
       "0                     2                     2       {appropriate, worth}   \n",
       "1                     0                     3                         {}   \n",
       "2                     3                     2       {great, works, best}   \n",
       "3                     4                     2  {nice, well, fast, right}   \n",
       "4                     2                     1         {flawlessly, best}   \n",
       "\n",
       "           negative_words  \n",
       "0       {broken, decline}  \n",
       "1  {messed, worse, blame}  \n",
       "2        {loud, freaking}  \n",
       "3       {regret, problem}  \n",
       "4            {complaints}  "
      ]
     },
     "execution_count": 40,
     "metadata": {},
     "output_type": "execute_result"
    }
   ],
   "source": [
    "reviews_df.head()"
   ]
  },
  {
   "cell_type": "markdown",
   "metadata": {},
   "source": [
    "## Vizualizacija pozitivnih riječi u recenzijama"
   ]
  },
  {
   "cell_type": "code",
   "execution_count": 41,
   "metadata": {
    "scrolled": true
   },
   "outputs": [
    {
     "name": "stdout",
     "output_type": "stream",
     "text": [
      "<wordcloud.wordcloud.WordCloud object at 0x000001F4582B4EF0>\n"
     ]
    },
    {
     "data": {
      "image/png": "[encoded data removed]",
      "text/plain": [
       "<Figure size 432x288 with 1 Axes>"
      ]
     },
     "metadata": {
      "needs_background": "light"
     },
     "output_type": "display_data"
    }
   ],
   "source": [
    "wordcloud = WordCloud(background_color='black',\n",
    "                          max_words=800,\n",
    "                          max_font_size=60, \n",
    "                          random_state=50).generate(str(reviews_df['positive_words']))\n",
    "\n",
    "print(wordcloud)\n",
    "fig = plt.figure(1)\n",
    "plt.imshow(wordcloud)\n",
    "plt.axis('off')\n",
    "plt.show()\n"
   ]
  },
  {
   "cell_type": "markdown",
   "metadata": {},
   "source": [
    "## Vizualizacija negativnih riječi u recenzijama"
   ]
  },
  {
   "cell_type": "code",
   "execution_count": 42,
   "metadata": {
    "scrolled": false
   },
   "outputs": [
    {
     "name": "stdout",
     "output_type": "stream",
     "text": [
      "<wordcloud.wordcloud.WordCloud object at 0x000001F458BA07F0>\n"
     ]
    },
    {
     "data": {
      "image/png": "[encoded data removed]",
      "text/plain": [
       "<Figure size 432x288 with 1 Axes>"
      ]
     },
     "metadata": {
      "needs_background": "light"
     },
     "output_type": "display_data"
    }
   ],
   "source": [
    "wordcloud = WordCloud(background_color='black',\n",
    "                          max_words=800,\n",
    "                          max_font_size=60, \n",
    "                          random_state=50).generate(str(reviews_df['negative_words']))\n",
    "\n",
    "print(wordcloud)\n",
    "fig = plt.figure(1)\n",
    "plt.imshow(wordcloud)\n",
    "plt.axis('off')\n",
    "plt.show()\n"
   ]
  },
  {
   "cell_type": "code",
   "execution_count": 43,
   "metadata": {},
   "outputs": [],
   "source": [
    "reviews_df['Review_Length'] = reviews_df['Review_Description'].apply(len)"
   ]
  },
  {
   "cell_type": "code",
   "execution_count": 44,
   "metadata": {
    "scrolled": false
   },
   "outputs": [
    {
     "data": {
      "text/plain": [
       "<matplotlib.axes._subplots.AxesSubplot at 0x1f4587bd048>"
      ]
     },
     "execution_count": 44,
     "metadata": {},
     "output_type": "execute_result"
    },
    {
     "data": {
      "image/png": "[encoded data removed]",
      "text/plain": [
       "<Figure size 432x288 with 1 Axes>"
      ]
     },
     "metadata": {
      "needs_background": "light"
     },
     "output_type": "display_data"
    }
   ],
   "source": [
    "sns.boxplot(x='Review_Rating', y='Review_Length', data=reviews_df)"
   ]
  },
  {
   "cell_type": "markdown",
   "metadata": {},
   "source": [
    "## Korelacija između ocjena i sentimenta u recenzijama"
   ]
  },
  {
   "cell_type": "code",
   "execution_count": 45,
   "metadata": {},
   "outputs": [
    {
     "data": {
      "text/html": [
       "<div>\n",
       "<style scoped>\n",
       "    .dataframe tbody tr th:only-of-type {\n",
       "        vertical-align: middle;\n",
       "    }\n",
       "\n",
       "    .dataframe tbody tr th {\n",
       "        vertical-align: top;\n",
       "    }\n",
       "\n",
       "    .dataframe thead th {\n",
       "        text-align: right;\n",
       "    }\n",
       "</style>\n",
       "<table border=\"1\" class=\"dataframe\">\n",
       "  <thead>\n",
       "    <tr style=\"text-align: right;\">\n",
       "      <th></th>\n",
       "      <th>positive_words_count</th>\n",
       "      <th>negative_words_count</th>\n",
       "      <th>Review_Length</th>\n",
       "    </tr>\n",
       "  </thead>\n",
       "  <tbody>\n",
       "    <tr>\n",
       "      <th>positive_words_count</th>\n",
       "      <td>1.000000</td>\n",
       "      <td>-0.924473</td>\n",
       "      <td>-0.954122</td>\n",
       "    </tr>\n",
       "    <tr>\n",
       "      <th>negative_words_count</th>\n",
       "      <td>-0.924473</td>\n",
       "      <td>1.000000</td>\n",
       "      <td>0.767909</td>\n",
       "    </tr>\n",
       "    <tr>\n",
       "      <th>Review_Length</th>\n",
       "      <td>-0.954122</td>\n",
       "      <td>0.767909</td>\n",
       "      <td>1.000000</td>\n",
       "    </tr>\n",
       "  </tbody>\n",
       "</table>\n",
       "</div>"
      ],
      "text/plain": [
       "                      positive_words_count  negative_words_count  \\\n",
       "positive_words_count              1.000000             -0.924473   \n",
       "negative_words_count             -0.924473              1.000000   \n",
       "Review_Length                    -0.954122              0.767909   \n",
       "\n",
       "                      Review_Length  \n",
       "positive_words_count      -0.954122  \n",
       "negative_words_count       0.767909  \n",
       "Review_Length              1.000000  "
      ]
     },
     "execution_count": 45,
     "metadata": {},
     "output_type": "execute_result"
    }
   ],
   "source": [
    "rating = reviews_df.groupby('Review_Rating').mean()\n",
    "rating.corr()"
   ]
  },
  {
   "cell_type": "code",
   "execution_count": 46,
   "metadata": {
    "scrolled": false
   },
   "outputs": [
    {
     "data": {
      "text/plain": [
       "<matplotlib.axes._subplots.AxesSubplot at 0x1f4583a64a8>"
      ]
     },
     "execution_count": 46,
     "metadata": {},
     "output_type": "execute_result"
    },
    {
     "data": {
      "image/png": "[encoded data removed]",
      "text/plain": [
       "<Figure size 432x288 with 2 Axes>"
      ]
     },
     "metadata": {
      "needs_background": "light"
     },
     "output_type": "display_data"
    }
   ],
   "source": [
    "sns.heatmap(data=rating.corr(), annot=True)\n"
   ]
  },
  {
   "cell_type": "code",
   "execution_count": 47,
   "metadata": {},
   "outputs": [],
   "source": [
    "df= pd.DataFrame(reviews_df[['Review_Description','summary_sentiment']])"
   ]
  },
  {
   "cell_type": "code",
   "execution_count": 48,
   "metadata": {},
   "outputs": [
    {
     "data": {
      "text/html": [
       "<div>\n",
       "<style scoped>\n",
       "    .dataframe tbody tr th:only-of-type {\n",
       "        vertical-align: middle;\n",
       "    }\n",
       "\n",
       "    .dataframe tbody tr th {\n",
       "        vertical-align: top;\n",
       "    }\n",
       "\n",
       "    .dataframe thead th {\n",
       "        text-align: right;\n",
       "    }\n",
       "</style>\n",
       "<table border=\"1\" class=\"dataframe\">\n",
       "  <thead>\n",
       "    <tr style=\"text-align: right;\">\n",
       "      <th></th>\n",
       "      <th>Review_Description</th>\n",
       "      <th>summary_sentiment</th>\n",
       "    </tr>\n",
       "  </thead>\n",
       "  <tbody>\n",
       "    <tr>\n",
       "      <th>0</th>\n",
       "      <td>\\n\\nPros:\\r\\n                -Runs most games ...</td>\n",
       "      <td>neutral</td>\n",
       "    </tr>\n",
       "    <tr>\n",
       "      <th>1</th>\n",
       "      <td>\\n\\nPros:\\r\\n                Nothing\\r\\n      ...</td>\n",
       "      <td>negative</td>\n",
       "    </tr>\n",
       "    <tr>\n",
       "      <th>2</th>\n",
       "      <td>\\n\\nPros:\\r\\n                works great,cheap...</td>\n",
       "      <td>positive</td>\n",
       "    </tr>\n",
       "    <tr>\n",
       "      <th>3</th>\n",
       "      <td>\\n\\nPros:\\r\\n                It's a nice \"budg...</td>\n",
       "      <td>positive</td>\n",
       "    </tr>\n",
       "    <tr>\n",
       "      <th>4</th>\n",
       "      <td>\\n\\nPros:\\r\\n                -awesome performa...</td>\n",
       "      <td>positive</td>\n",
       "    </tr>\n",
       "  </tbody>\n",
       "</table>\n",
       "</div>"
      ],
      "text/plain": [
       "                                  Review_Description summary_sentiment\n",
       "0  \\n\\nPros:\\r\\n                -Runs most games ...           neutral\n",
       "1  \\n\\nPros:\\r\\n                Nothing\\r\\n      ...          negative\n",
       "2  \\n\\nPros:\\r\\n                works great,cheap...          positive\n",
       "3  \\n\\nPros:\\r\\n                It's a nice \"budg...          positive\n",
       "4  \\n\\nPros:\\r\\n                -awesome performa...          positive"
      ]
     },
     "execution_count": 48,
     "metadata": {},
     "output_type": "execute_result"
    }
   ],
   "source": [
    "df.head()"
   ]
  },
  {
   "cell_type": "code",
   "execution_count": 49,
   "metadata": {},
   "outputs": [],
   "source": [
    "df_pos = df.groupby('summary_sentiment').get_group(\"positive\")['Review_Description']\n",
    "\n",
    "df_neg = df.groupby('summary_sentiment').get_group(\"negative\")['Review_Description']\n"
   ]
  },
  {
   "cell_type": "markdown",
   "metadata": {},
   "source": [
    "## Ekstraktovanje karakteristika iz recenzija i sentimenta"
   ]
  },
  {
   "cell_type": "code",
   "execution_count": null,
   "metadata": {},
   "outputs": [],
   "source": [
    "def get_words_in_list(list):\n",
    "    all = []\n",
    "    for (words, sentiment) in list:\n",
    "        all.extend(words)\n",
    "    return all\n",
    "\n",
    "def get_word_features(wordlist):\n",
    "    wordlist = nltk.FreqDist(wordlist)\n",
    "    features = wordlist.keys()\n",
    "    return features\n",
    "w_features = get_word_features(get_words_in_list(list))\n",
    "\n",
    "def extract_features(document):\n",
    "    document_words = set(document)\n",
    "    features = {}\n",
    "    for word in w_features:\n",
    "        features['contains(%s)' % word] = (word in document_words)\n",
    "    return features"
   ]
  },
  {
   "cell_type": "code",
   "execution_count": 51,
   "metadata": {},
   "outputs": [],
   "source": [
    "data= nltk.classify.apply_features(extract_features,list)"
   ]
  },
  {
   "cell_type": "code",
   "execution_count": 52,
   "metadata": {},
   "outputs": [],
   "source": [
    "train, test = train_test_split(data,test_size = 0.2)"
   ]
  },
  {
   "cell_type": "markdown",
   "metadata": {},
   "source": [
    "## Koristimo Naive Bayes klasifikator da predvidimo sentiment u test podatke"
   ]
  },
  {
   "cell_type": "code",
   "execution_count": 64,
   "metadata": {},
   "outputs": [],
   "source": [
    "classifier = nltk.NaiveBayesClassifier.train(train)"
   ]
  },
  {
   "cell_type": "markdown",
   "metadata": {},
   "source": [
    "## Kalkulišemo preciznost klasifikatora"
   ]
  },
  {
   "cell_type": "code",
   "execution_count": 65,
   "metadata": {},
   "outputs": [
    {
     "name": "stdout",
     "output_type": "stream",
     "text": [
      "1.0\n"
     ]
    }
   ],
   "source": [
    "print(nltk.classify.accuracy(classifier,test))"
   ]
  },
  {
   "cell_type": "code",
   "execution_count": 66,
   "metadata": {},
   "outputs": [
    {
     "name": "stdout",
     "output_type": "stream",
     "text": [
      "[Negative]: 13/13 \n",
      "[Positive]: 78/78 \n"
     ]
    }
   ],
   "source": [
    "neg_cnt = 0\n",
    "pos_cnt = 0\n",
    "for obj in df_neg: \n",
    "    res =  classifier.classify(extract_features(obj.split()))\n",
    "    if(res == 'negative'): \n",
    "        neg_cnt = neg_cnt + 1\n",
    "for obj in df_pos: \n",
    "    res =  classifier.classify(extract_features(obj.split()))\n",
    "    if(res == 'positive'): \n",
    "        pos_cnt = pos_cnt + 1\n",
    "\n",
    "        \n",
    "print('[Negative]: %s/%s '  % (neg_cnt,len(df_neg)))        \n",
    "print('[Positive]: %s/%s '  % (pos_cnt,len(df_pos)))"
   ]
  },
  {
   "cell_type": "code",
   "execution_count": null,
   "metadata": {},
   "outputs": [],
   "source": []
  },
  {
   "cell_type": "code",
   "execution_count": null,
   "metadata": {},
   "outputs": [],
   "source": []
  }
 ],
 "metadata": {
  "anaconda-cloud": {},
  "kernelspec": {
   "display_name": "Python 3",
   "language": "python",
   "name": "python3"
  },
  "language_info": {
   "codemirror_mode": {
    "name": "ipython",
    "version": 3
   },
   "file_extension": ".py",
   "mimetype": "text/x-python",
   "name": "python",
   "nbconvert_exporter": "python",
   "pygments_lexer": "ipython3",
   "version": "3.7.3"
  }
 },
 "nbformat": 4,
 "nbformat_minor": 1
}
